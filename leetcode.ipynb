{
 "cells": [
  {
   "cell_type": "code",
   "execution_count": null,
   "metadata": {},
   "outputs": [],
   "source": [
    "#977. Squares of a sorted array\n",
    "inlst=[1,2,3,4,5]\n",
    "outlst=[]\n",
    "for i in inlst:\n",
    "    outlst.append(i*i)\n",
    "print(outlst)    "
   ]
  },
  {
   "cell_type": "code",
   "execution_count": null,
   "metadata": {},
   "outputs": [],
   "source": [
    "#876. Middle of the Linked List\n",
    "# Definition for singly-linked list.\n",
    "class ListNode:\n",
    "    def __init__(self, val=0, next=None):\n",
    "        self.val = val\n",
    "        self.next = next\n",
    "class Solution:\n",
    "    def middleNode(self, head: ListNode) -> ListNode:\n",
    "        if not head:\n",
    "            return 0\n",
    "        lenlst=0\n",
    "        temp=head\n",
    "        while head:\n",
    "            head=head.next\n",
    "            lenlst+=1\n",
    "                    \n",
    "        if lenlst/2 == 0:\n",
    "            loop=int(lenlst/2 + 1)\n",
    "        else:\n",
    "            loop=int(lenlst/2)\n",
    "        i=0            \n",
    "        while loop>0:\n",
    "            temp=temp.next \n",
    "            loop= loop -1\n",
    "        return temp "
   ]
  },
  {
   "cell_type": "code",
   "execution_count": null,
   "metadata": {},
   "outputs": [],
   "source": [
    "#876. Middle of the Linked List\n",
    "# Definition for singly-linked list.\n",
    "class ListNode: \n",
    "    def __init__(self, val=0, next=None):\n",
    "        self.val = val\n",
    "        self.next = next\n",
    "class Solution:\n",
    "    def middleNode(self, head: ListNode) -> ListNode:\n",
    "        if not head:\n",
    "            return 0\n",
    "        lenlst=0\n",
    "        temp=head\n",
    "        while head:\n",
    "            head=head.next\n",
    "            lenlst +=1\n",
    "        if lenlst/2 == 0:\n",
    "            loop=int(lenlst/2 +1)\n",
    "        else:\n",
    "            loop=int(lenlst/2)\n",
    "        i=0\n",
    "        while loop>0:\n",
    "            temp=temp.next\n",
    "            loop=loop -1\n",
    "        return temp"
   ]
  },
  {
   "cell_type": "code",
   "execution_count": null,
   "metadata": {},
   "outputs": [],
   "source": [
    "#206. Reverse Linked List\n",
    "# Definition for singly-linked list.\n",
    "class ListNode:\n",
    "    def __init__(self, val=0, next=None):\n",
    "        self.val = val\n",
    "        self.next = next\n",
    "class Solution:\n",
    "    def reverseList(self, head: ListNode) -> ListNode:\n",
    "        prev=None\n",
    "        while head:\n",
    "            temp=head\n",
    "            head=head.next\n",
    "            temp.next=prev\n",
    "            prev=temp\n",
    "        return prev"
   ]
  },
  {
   "cell_type": "code",
   "execution_count": null,
   "metadata": {},
   "outputs": [],
   "source": [
    "#283. Move Zeroes\n",
    "class Solution:\n",
    "    def moveZeroes(self, nums: List[int]) -> None:\n",
    "        \"\"\"\n",
    "        :type nums: List[int]\n",
    "        :rtype: void Do not return anything, modify nums in-place instead.\n",
    "        \"\"\"\n",
    "        i=0\n",
    "        for j in range(len(nums)):\n",
    "            if nums[j] != 0:\n",
    "                nums[i], nums[j] = nums[j] , nums[i]\n",
    "                i += 1         \n",
    "        \n"
   ]
  },
  {
   "cell_type": "code",
   "execution_count": null,
   "metadata": {},
   "outputs": [],
   "source": [
    "class Solution:\n",
    "    def verifyPreorder(self, preorder: List[int]) -> bool:\n",
    "        maxlen=len(preorder)\n",
    "        i=0\n",
    "        if maxlen==2:\n",
    "            return True\n",
    "        else:\n",
    "            while i < int(maxlen/2) :\n",
    "                if (i+1) != (maxlen - i - 1):                 \n",
    "                    if preorder[i] < preorder[i+1] or preorder[i] > preorder[maxlen - i -1]:\n",
    "                        if maxlen - i - 1 != i+1:\n",
    "                            return False                \n",
    "                i+=1\n",
    "            return True  "
   ]
  },
  {
   "cell_type": "code",
   "execution_count": null,
   "metadata": {},
   "outputs": [],
   "source": [
    "s=\"()\"class Solution:\n",
    "    def isValid(self, s: str) -> bool:\n",
    "        stk=[]\n",
    "        chk={\"[\":\"]\", \"(\":\")\", \"{\":\"}\"}\n",
    "        i=0\n",
    "        while i< len(s):\n",
    "            if not stk:\n",
    "                stk.append(chk.get(\"s[i]\"))\n",
    "                i+=1\n",
    "            else:\n",
    "                if stk and stk[-1] == s[i]:\n",
    "                    stk.pop()\n",
    "                else:\n",
    "                    stk.append(\"s[i]\")\n",
    "                i+=1\n",
    "        if not stk:\n",
    "            return True   \n",
    "        else:\n",
    "            return False\n",
    "                               \n",
    "print(len(s))"
   ]
  },
  {
   "cell_type": "code",
   "execution_count": null,
   "metadata": {},
   "outputs": [],
   "source": [
    "        chk={\"[\":\"]\", \"(\":\")\", \"{\":\"}\"}"
   ]
  },
  {
   "cell_type": "code",
   "execution_count": null,
   "metadata": {},
   "outputs": [],
   "source": [
    "print(chk.get(\"[\"))"
   ]
  },
  {
   "cell_type": "markdown",
   "metadata": {},
   "source": [
    "# THINGS TO DO:\n",
    "https://ocw.mit.edu/courses/electrical-engineering-and-computer-science/6-006-introduction-to-algorithms-fall-2011/lecture-videos/lecture-19-dynamic-programming-i-fibonacci-shortest-paths/"
   ]
  },
  {
   "cell_type": "code",
   "execution_count": null,
   "metadata": {},
   "outputs": [],
   "source": [
    "a=[-1]*100000"
   ]
  },
  {
   "cell_type": "code",
   "execution_count": null,
   "metadata": {},
   "outputs": [],
   "source": [
    "print(a[100])"
   ]
  },
  {
   "cell_type": "code",
   "execution_count": null,
   "metadata": {},
   "outputs": [],
   "source": [
    "class TreeNode:\n",
    "    def __init__(self, val, left=None, right=None):\n",
    "        self.val = val\n",
    "        self.left = left\n",
    "        self.right = right\n",
    "    def __repr__(self):\n",
    "        return 'TreeNode({})'.format(self.val)\n",
    "    \n",
    "def deserialize(string):\n",
    "    if string == '{}':\n",
    "        return None\n",
    "    nodes = [None if val == 'null' else TreeNode(int(val))\n",
    "             for val in string.strip('[]{}').split(',')]\n",
    "    kids = nodes[::-1]\n",
    "    root = kids.pop()\n",
    "    for node in nodes:\n",
    "        if node:\n",
    "            if kids: node.left  = kids.pop()\n",
    "            if kids: node.right = kids.pop()\n",
    "    return root\n",
    "\n",
    "def drawtree(rootdeserialize('[1,2,3,null,null,4,null,null,5]') \n",
    "    def height(root):\n",
    "        return 1 + max(height(root.left), height(root.right)) if root else -1\n",
    "    def jumpto(x, y):\n",
    "        t.penup()\n",
    "        t.goto(x, y)\n",
    "        t.pendown()\n",
    "    def draw(node, x, y, dx):\n",
    "        if node:\n",
    "            t.goto(x, y)\n",
    "            jumpto(x, y-20)\n",
    "            t.write(node.val, align='center', font=('Arial', 12, 'normal'))\n",
    "            draw(node.left, x-dx, y-60, dx/2)\n",
    "            jumpto(x, y-20)\n",
    "            draw(node.right, x+dx, y-60, dx/2)\n",
    "    import turtle\n",
    "    t = turtle.Turtle()\n",
    "    t.speed(0); turtle.delay(0)\n",
    "    h = height(root)\n",
    "    jumpto(0, 30*h)\n",
    "    draw(root, 0, 30*h, 40*h)\n",
    "    t.hideturtle()\n",
    "    turtle.mainloop()\n",
    "    \n",
    "if __name__ == '__main__':\n",
    "    drawtree(deserialize('[1,2,3,null,null,4,null,null,5]'))\n",
    "    drawtree(deserialize('[2,1,3,0,7,9,1,2,null,1,0,null,null,8,8,null,null,null,null,7]'))"
   ]
  },
  {
   "cell_type": "code",
   "execution_count": null,
   "metadata": {},
   "outputs": [],
   "source": [
    "deserialize('[1,2,3,null,null,4,null,null,5]') "
   ]
  },
  {
   "cell_type": "code",
   "execution_count": null,
   "metadata": {},
   "outputs": [],
   "source": [
    "drawtree(deserialize('[1,2,3,null,null,4,null,null,5]')):"
   ]
  },
  {
   "cell_type": "code",
   "execution_count": null,
   "metadata": {},
   "outputs": [],
   "source": [
    "thisdict={'brand':'Ford', 'model':'Mustang', 'year':1964}\n",
    "print(thisdict)"
   ]
  },
  {
   "cell_type": "code",
   "execution_count": null,
   "metadata": {},
   "outputs": [],
   "source": [
    "x = thisdict['model']"
   ]
  },
  {
   "cell_type": "code",
   "execution_count": null,
   "metadata": {},
   "outputs": [],
   "source": [
    "print(\"X=\",x)"
   ]
  },
  {
   "cell_type": "code",
   "execution_count": null,
   "metadata": {},
   "outputs": [],
   "source": [
    "thisdict['model']='Focus'"
   ]
  },
  {
   "cell_type": "code",
   "execution_count": null,
   "metadata": {},
   "outputs": [],
   "source": [
    "print(thisdict['model'])"
   ]
  },
  {
   "cell_type": "code",
   "execution_count": null,
   "metadata": {},
   "outputs": [],
   "source": [
    "thisdict['year']=2000"
   ]
  },
  {
   "cell_type": "code",
   "execution_count": null,
   "metadata": {},
   "outputs": [],
   "source": [
    "thisdict['price']=20000"
   ]
  },
  {
   "cell_type": "code",
   "execution_count": null,
   "metadata": {},
   "outputs": [],
   "source": [
    "print(thisdict)"
   ]
  },
  {
   "cell_type": "code",
   "execution_count": null,
   "metadata": {},
   "outputs": [],
   "source": [
    "for x in thisdict:\n",
    "    print(thisdict[x])"
   ]
  },
  {
   "cell_type": "code",
   "execution_count": null,
   "metadata": {},
   "outputs": [],
   "source": [
    "for x, y in thisdict.items():\n",
    "    print(x,y)"
   ]
  },
  {
   "cell_type": "code",
   "execution_count": null,
   "metadata": {},
   "outputs": [],
   "source": [
    "print(type(thisdict))\n",
    "print(len(thisdict))"
   ]
  },
  {
   "cell_type": "code",
   "execution_count": null,
   "metadata": {},
   "outputs": [],
   "source": [
    "if __name__ == '__main__':\n",
    "    n = int(input())\n",
    "    for i in range(n):\n",
    "        print(n,i)"
   ]
  },
  {
   "cell_type": "code",
   "execution_count": null,
   "metadata": {},
   "outputs": [],
   "source": [
    "if __name__ == '__main__':\n",
    "    mydict={}\n",
    "    n = int(input())\n",
    "    for i in range(len(n)):\n",
    "        print(str(input()))"
   ]
  },
  {
   "cell_type": "code",
   "execution_count": null,
   "metadata": {},
   "outputs": [],
   "source": [
    "mystr=\"pankaj director swapnil senior neha director\"\n"
   ]
  },
  {
   "cell_type": "code",
   "execution_count": null,
   "metadata": {},
   "outputs": [],
   "source": [
    "n = int(input())\n",
    "\n",
    "# initialize a phonebook dictionary object\n",
    "phonebook = {}\n",
    "\n",
    "# checking input data\n",
    "for i in range(n):\n",
    "    k, v = input().strip().split()\n",
    "    phonebook[k] = v\n",
    "\n",
    "# define a query function\n",
    "def query(k):\n",
    "    v = phonebook[k]\n",
    "    print(k+'='+v)    \n",
    "    return \n",
    "\n",
    "# checking input query\n",
    "for i in range(0, n+1):\n",
    "    k = input().strip()\n",
    "    try:\n",
    "        query(k)\n",
    "    except:\n",
    "        print('Not found')"
   ]
  },
  {
   "cell_type": "code",
   "execution_count": null,
   "metadata": {},
   "outputs": [],
   "source": [
    "# Enter your code here. Read input from STDIN. Print output to STDOUT\n",
    "if __name__ == '__main__':\n",
    "    mydict={}\n",
    "    n = int(input())\n",
    "    for i in range(n):\n",
    "        key, val = input().strip().split()\n",
    "        mydict[key]=val\n",
    "\n",
    "    def query(key):\n",
    "        val=mydict[key]\n",
    "        print(key+'='+val)\n",
    "        return\n",
    "    for i in range(0, n+1):\n",
    "        key=input().strip()\n",
    "        try:\n",
    "            query(key)\n",
    "        except:\n",
    "            print('Not found')"
   ]
  },
  {
   "cell_type": "code",
   "execution_count": null,
   "metadata": {},
   "outputs": [],
   "source": [
    "n= int(input())\n",
    "name_num = [input().split() for _ in range(n)]\n",
    "mydict = {k: v for k,v in name_num}\n",
    "while True:\n",
    "    try:\n",
    "        name=input()\n",
    "        if name in mydict:\n",
    "            print(name, mydict[name])\n",
    "        else:\n",
    "            print('Not found')\n",
    "    except:\n",
    "        break                        "
   ]
  },
  {
   "cell_type": "code",
   "execution_count": null,
   "metadata": {},
   "outputs": [],
   "source": [
    "n= int(input())\n",
    "name_num = [input().split() for _ in range(n)]\n",
    "mydict={k:v for k,v in name_num}\n",
    "while True:\n",
    "    try:\n",
    "        name=input()\n",
    "        if name in mydict:\n",
    "            print(name, name_num[name])\n",
    "        else:\n",
    "            print('Not found')\n",
    "    except:\n",
    "        break                        "
   ]
  },
  {
   "cell_type": "code",
   "execution_count": 16,
   "metadata": {},
   "outputs": [
    {
     "name": "stdout",
     "output_type": "stream",
     "text": [
      "\n"
     ]
    }
   ],
   "source": [
    "n=5\n",
    "binstr=''\n",
    "while n==0:\n",
    "    binstr+=n%2\n",
    "    print(n)\n",
    "    n=int(n/2)\n",
    "    print(n)\n",
    "print(binstr)"
   ]
  },
  {
   "cell_type": "code",
   "execution_count": 4,
   "metadata": {},
   "outputs": [
    {
     "name": "stdout",
     "output_type": "stream",
     "text": [
      "5\n"
     ]
    }
   ],
   "source": [
    "n=5\n",
    "print(n)"
   ]
  },
  {
   "cell_type": "code",
   "execution_count": 38,
   "metadata": {},
   "outputs": [
    {
     "ename": "IndexError",
     "evalue": "list assignment index out of range",
     "output_type": "error",
     "traceback": [
      "\u001b[1;31m---------------------------------------------------------------------------\u001b[0m",
      "\u001b[1;31mIndexError\u001b[0m                                Traceback (most recent call last)",
      "\u001b[1;32m<ipython-input-38-b06847eab94e>\u001b[0m in \u001b[0;36m<module>\u001b[1;34m\u001b[0m\n\u001b[0;32m      2\u001b[0m \u001b[0mbinstr\u001b[0m\u001b[1;33m=\u001b[0m\u001b[1;33m[\u001b[0m\u001b[1;33m]\u001b[0m\u001b[1;33m\u001b[0m\u001b[1;33m\u001b[0m\u001b[0m\n\u001b[0;32m      3\u001b[0m \u001b[1;32mwhile\u001b[0m \u001b[0mi\u001b[0m\u001b[1;33m!=\u001b[0m\u001b[1;36m0\u001b[0m\u001b[1;33m:\u001b[0m\u001b[1;33m\u001b[0m\u001b[1;33m\u001b[0m\u001b[0m\n\u001b[1;32m----> 4\u001b[1;33m     \u001b[0mbinstr\u001b[0m\u001b[1;33m[\u001b[0m\u001b[0mi\u001b[0m\u001b[1;33m]\u001b[0m\u001b[1;33m=\u001b[0m\u001b[0mint\u001b[0m\u001b[1;33m(\u001b[0m\u001b[0mi\u001b[0m\u001b[1;33m%\u001b[0m\u001b[1;36m2\u001b[0m\u001b[1;33m)\u001b[0m\u001b[1;33m\u001b[0m\u001b[1;33m\u001b[0m\u001b[0m\n\u001b[0m\u001b[0;32m      5\u001b[0m     \u001b[0mprint\u001b[0m\u001b[1;33m(\u001b[0m\u001b[0mi\u001b[0m\u001b[1;33m)\u001b[0m\u001b[1;33m\u001b[0m\u001b[1;33m\u001b[0m\u001b[0m\n\u001b[0;32m      6\u001b[0m     \u001b[0mi\u001b[0m\u001b[1;33m=\u001b[0m\u001b[0mint\u001b[0m\u001b[1;33m(\u001b[0m\u001b[0mi\u001b[0m\u001b[1;33m/\u001b[0m\u001b[1;36m2\u001b[0m\u001b[1;33m)\u001b[0m\u001b[1;33m\u001b[0m\u001b[1;33m\u001b[0m\u001b[0m\n",
      "\u001b[1;31mIndexError\u001b[0m: list assignment index out of range"
     ]
    }
   ],
   "source": [
    "i=6\n",
    "binstr=[]\n",
    "while i!=0:\n",
    "    binstr[i]=int(i%2)\n",
    "    print(i)\n",
    "    i=int(i/2)\n",
    "print(binstr) \n",
    "#revstr=binstr(::-1)\n",
    "print(revst)"
   ]
  },
  {
   "cell_type": "code",
   "execution_count": 57,
   "metadata": {},
   "outputs": [
    {
     "name": "stdout",
     "output_type": "stream",
     "text": [
      "101\n",
      "0 1\n",
      "co= 1\n",
      "1 0\n",
      "co= 2\n",
      "2 1\n",
      "co= 3\n",
      "3\n"
     ]
    }
   ],
   "source": [
    "n=5\n",
    "binstr=''\n",
    "cm=0\n",
    "co=0\n",
    "while n!=0:\n",
    "    binstr=str(n%2)+binstr\n",
    "    n=int(n/2)\n",
    "print(binstr)\n",
    "for i in range(len(binstr)):\n",
    "    print(i,binstr[i])\n",
    "    if binstr[i]==0:\n",
    "        co=0\n",
    "    else:\n",
    "        co+=1\n",
    "        print('co=',co)\n",
    "        cm=max(co,cm)\n",
    "print(cm)\n"
   ]
  },
  {
   "cell_type": "code",
   "execution_count": 58,
   "metadata": {},
   "outputs": [
    {
     "name": "stdout",
     "output_type": "stream",
     "text": [
      "1\n",
      "0\n",
      "1\n"
     ]
    }
   ],
   "source": [
    "for i in binstr:\n",
    "    print(i)"
   ]
  },
  {
   "cell_type": "code",
   "execution_count": 60,
   "metadata": {},
   "outputs": [
    {
     "name": "stdout",
     "output_type": "stream",
     "text": [
      "110\n"
     ]
    }
   ],
   "source": [
    "    n=6\n",
    "    binstr=''\n",
    "    while n!=0:\n",
    "        binstr=str(n%2)+binstr\n",
    "        n=int(n/2)\n",
    "    print(binstr)"
   ]
  },
  {
   "cell_type": "code",
   "execution_count": 67,
   "metadata": {},
   "outputs": [
    {
     "name": "stdout",
     "output_type": "stream",
     "text": [
      "5\n",
      "1\n"
     ]
    }
   ],
   "source": [
    "if __name__ == '__main__':\n",
    "    n = int(input())\n",
    "    cm=0\n",
    "    co=0\n",
    "    binstr=''\n",
    "    while n!=0:\n",
    "        binstr=str(n%2)+binstr\n",
    "        n=int(n/2)\n",
    "    \n",
    "    for i in binstr:\n",
    "        if i=='0':\n",
    "            cm=max(co,cm)            \n",
    "            co=0\n",
    "        else:\n",
    "            co+=1\n",
    "\n",
    "    print(max(co,cm))\n"
   ]
  },
  {
   "cell_type": "code",
   "execution_count": 70,
   "metadata": {},
   "outputs": [
    {
     "name": "stdout",
     "output_type": "stream",
     "text": [
      "a\n",
      "b\n",
      "c\n",
      "d\n"
     ]
    }
   ],
   "source": [
    "lst=[\"a\",\"b\",\"c\",\"d\"]\n",
    "for i in lst:\n",
    "    print (i)"
   ]
  },
  {
   "cell_type": "code",
   "execution_count": 71,
   "metadata": {},
   "outputs": [],
   "source": [
    "lst.append(\"e\")"
   ]
  },
  {
   "cell_type": "code",
   "execution_count": 72,
   "metadata": {},
   "outputs": [
    {
     "name": "stdout",
     "output_type": "stream",
     "text": [
      "['a', 'b', 'c', 'd', 'e']\n"
     ]
    }
   ],
   "source": [
    "print(lst)"
   ]
  },
  {
   "cell_type": "code",
   "execution_count": 73,
   "metadata": {},
   "outputs": [],
   "source": [
    "del lst[4]"
   ]
  },
  {
   "cell_type": "code",
   "execution_count": 74,
   "metadata": {},
   "outputs": [
    {
     "name": "stdout",
     "output_type": "stream",
     "text": [
      "['a', 'b', 'c', 'd']\n"
     ]
    }
   ],
   "source": [
    "print(lst)"
   ]
  },
  {
   "cell_type": "code",
   "execution_count": 75,
   "metadata": {},
   "outputs": [],
   "source": [
    "class TreeNode(object):\n",
    "    \"\"\" Definition of a binary tree node.\"\"\"\n",
    "    def __init__(self, x):\n",
    "        self.val = x\n",
    "        self.left = None\n",
    "        self.right = None\n",
    "        if root is None:\n",
    "            return []\n",
    "\n",
    "        stack, output = [root, ], []\n",
    "        while stack:\n",
    "            root = stack.pop()\n",
    "            output.append(root.val)\n",
    "            if root.left is not None:\n",
    "                stack.append(root.left)\n",
    "            if root.right is not None:\n",
    "                stack.append(root.right)\n",
    "                \n",
    "        return output[::-1]        "
   ]
  },
  {
   "cell_type": "code",
   "execution_count": 76,
   "metadata": {},
   "outputs": [
    {
     "name": "stdout",
     "output_type": "stream",
     "text": [
      "Type a number: 1\n",
      "Type another number: 2\n",
      "The sum is:  3\n"
     ]
    }
   ],
   "source": [
    "x = input(\"Type a number: \")\n",
    "y = input(\"Type another number: \")\n",
    "\n",
    "sum = int(x) + int(y)\n",
    "\n",
    "print(\"The sum is: \", sum)"
   ]
  }
 ],
 "metadata": {
  "kernelspec": {
   "display_name": "Python 3",
   "language": "python",
   "name": "python3"
  },
  "language_info": {
   "codemirror_mode": {
    "name": "ipython",
    "version": 3
   },
   "file_extension": ".py",
   "mimetype": "text/x-python",
   "name": "python",
   "nbconvert_exporter": "python",
   "pygments_lexer": "ipython3",
   "version": "3.7.3"
  }
 },
 "nbformat": 4,
 "nbformat_minor": 2
}
